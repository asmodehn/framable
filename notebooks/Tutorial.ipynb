{
 "cells": [
  {
   "cell_type": "markdown",
   "metadata": {},
   "source": [
    "# Tutorial\n",
    "\n",
    "Framable is a package providing Proxies and Wrappers, attempting to square your python code into shape.\n",
    "\n",
    "It relies heavily on `wrapt`, a package that allows you to wrap existing code after the fact into a new, cleaner structure.\n",
    "\n",
    "- If you want to know more about Proxies and Wrappers in Python in general you should check the detailed `wrapt` documentation.\n",
    "\n",
    "- If you want to know more about the way framable allow you to structure your code, you should have a look at the `core` subpackage and the `CoreTutorial` notebook, where everything is explained, without the Proxying/Wrapping machinery being in the way."
   ]
  },
  {
   "cell_type": "markdown",
   "metadata": {},
   "source": [
    "# Import"
   ]
  },
  {
   "cell_type": "code",
   "execution_count": 1,
   "metadata": {},
   "outputs": [],
   "source": [
    "import framable"
   ]
  },
  {
   "cell_type": "markdown",
   "metadata": {},
   "source": [
    "# FramableClassProxy\n",
    "\n",
    "This is a proxy to make an existing class behave as if it was build with the FramableMeta metaclass.\n",
    "The main point being that you can declare that \"after the fact\"."
   ]
  },
  {
   "cell_type": "code",
   "execution_count": 2,
   "metadata": {},
   "outputs": [],
   "source": [
    "class MyKls:\n",
    "    att: int\n",
    "\n",
    "    def __init__(self, att = 0, other = \"smthg\"):\n",
    "        self.att = att\n",
    "        self.other = other\n",
    "\n",
    "KlassProxy = framable.FramableClassProxy(MyKls)"
   ]
  },
  {
   "cell_type": "code",
   "execution_count": 3,
   "metadata": {},
   "outputs": [
    {
     "name": "stdout",
     "output_type": "stream",
     "text": [
      "   att  other\n",
      "0   42     51\n"
     ]
    }
   ],
   "source": [
    "myobj = KlassProxy(42, 51)\n",
    "\n",
    "print(KlassProxy.__frame__)"
   ]
  },
  {
   "cell_type": "markdown",
   "metadata": {},
   "source": [
    "Careful: the `__frame__` attribute is only on the class proxy, not on the instance, or even on its class (like with FramableMeta). Using a proxy means there is one more level of indirection."
   ]
  },
  {
   "cell_type": "code",
   "execution_count": 10,
   "metadata": {},
   "outputs": [
    {
     "data": {
      "text/plain": [
       "False"
      ]
     },
     "execution_count": 10,
     "metadata": {},
     "output_type": "execute_result"
    }
   ],
   "source": [
    "hasattr(myobj, \"__frame__\")"
   ]
  },
  {
   "cell_type": "code",
   "execution_count": 9,
   "metadata": {},
   "outputs": [
    {
     "data": {
      "text/plain": [
       "False"
      ]
     },
     "execution_count": 9,
     "metadata": {},
     "output_type": "execute_result"
    }
   ],
   "source": [
    "hasattr(MyKls, \"__frame__\")"
   ]
  },
  {
   "cell_type": "markdown",
   "metadata": {},
   "source": [
    "# FramableObjectProxy\n",
    "This is a proxy to make an existing object behave as if it was built with teh FramableBase as a superclass. the main point being that you can declare that \"after the fact\"."
   ]
  },
  {
   "cell_type": "code",
   "execution_count": 12,
   "metadata": {},
   "outputs": [],
   "source": [
    "class MyKls:\n",
    "    att: int\n",
    "\n",
    "    def __init__(self, att, other):\n",
    "        self.att = att\n",
    "        self.other = other\n",
    "\n",
    "fobj = MyKls(42, 51)\n",
    "fproxy = framable.FramableObjectProxy(fobj)"
   ]
  },
  {
   "cell_type": "code",
   "execution_count": 13,
   "metadata": {},
   "outputs": [
    {
     "name": "stdout",
     "output_type": "stream",
     "text": [
      "att      42\n",
      "other    51\n",
      "dtype: int64\n"
     ]
    }
   ],
   "source": [
    "fproxy.__series__"
   ]
  },
  {
   "cell_type": "markdown",
   "metadata": {},
   "source": [
    "Careful: the `__frame__` attribute is not available here, even on the type."
   ]
  },
  {
   "cell_type": "code",
   "execution_count": 15,
   "metadata": {},
   "outputs": [
    {
     "data": {
      "text/plain": [
       "False"
      ]
     },
     "execution_count": 15,
     "metadata": {},
     "output_type": "execute_result"
    }
   ],
   "source": [
    "hasattr(MyKls,\"__frame__\")"
   ]
  },
  {
   "cell_type": "code",
   "execution_count": 17,
   "metadata": {},
   "outputs": [
    {
     "name": "stdout",
     "output_type": "stream",
     "text": [
      "<class 'framable.framableobjectproxy.FramableObjectProxy'>\n"
     ]
    },
    {
     "data": {
      "text/plain": [
       "False"
      ]
     },
     "execution_count": 17,
     "metadata": {},
     "output_type": "execute_result"
    }
   ],
   "source": [
    "print(type(fproxy))\n",
    "hasattr(type(fproxy), \"__frame__\")"
   ]
  },
  {
   "cell_type": "markdown",
   "metadata": {},
   "source": [
    "Where FramableBase and FramableMeta provide extra functionalities compared to these proxies means that, in order to get the same behavior, these proxies need to be used together.\n",
    "\n",
    "Although slightly inconvenient, this provides clarity in the proxying code. They can be composed just like usual python function calls."
   ]
  },
  {
   "cell_type": "code",
   "execution_count": null,
   "metadata": {},
   "outputs": [],
   "source": [
    "class MyKls:\n",
    "    att: int\n",
    "\n",
    "    def __init__(self, att = 0, other = \"smthg\"):\n",
    "        self.att = att\n",
    "        self.other = other\n",
    "\n",
    "KlassProxy = framable.FramableClassProxy(MyKls)\n",
    "fobj = KlassProxy(42, 51)\n",
    "fproxy = framable.FramableObjectProxy(fobj)"
   ]
  },
  {
   "cell_type": "code",
   "execution_count": 19,
   "metadata": {},
   "outputs": [
    {
     "data": {
      "text/html": [
       "<div>\n",
       "<style scoped>\n",
       "    .dataframe tbody tr th:only-of-type {\n",
       "        vertical-align: middle;\n",
       "    }\n",
       "\n",
       "    .dataframe tbody tr th {\n",
       "        vertical-align: top;\n",
       "    }\n",
       "\n",
       "    .dataframe thead th {\n",
       "        text-align: right;\n",
       "    }\n",
       "</style>\n",
       "<table border=\"1\" class=\"dataframe\">\n",
       "  <thead>\n",
       "    <tr style=\"text-align: right;\">\n",
       "      <th></th>\n",
       "      <th>att</th>\n",
       "      <th>other</th>\n",
       "    </tr>\n",
       "  </thead>\n",
       "  <tbody>\n",
       "    <tr>\n",
       "      <th>0</th>\n",
       "      <td>42</td>\n",
       "      <td>51</td>\n",
       "    </tr>\n",
       "  </tbody>\n",
       "</table>\n",
       "</div>"
      ],
      "text/plain": [
       "   att  other\n",
       "0   42     51"
      ]
     },
     "execution_count": 19,
     "metadata": {},
     "output_type": "execute_result"
    }
   ],
   "source": [
    "KlassProxy.__frame__"
   ]
  },
  {
   "cell_type": "code",
   "execution_count": 18,
   "metadata": {},
   "outputs": [
    {
     "data": {
      "text/plain": [
       "att      42\n",
       "other    51\n",
       "dtype: int64"
      ]
     },
     "execution_count": 18,
     "metadata": {},
     "output_type": "execute_result"
    }
   ],
   "source": [
    "fproxy.__series__"
   ]
  },
  {
   "cell_type": "markdown",
   "metadata": {
    "run_control": {
     "marked": false
    }
   },
   "source": [
    "# FramableFunctionWrapper\n",
    "\n",
    "This is a wrapper to make an existing function behave as if it was built with the .."
   ]
  }
 ],
 "metadata": {
  "kernelspec": {
   "display_name": "framable",
   "language": "python",
   "name": "framable"
  },
  "language_info": {
   "codemirror_mode": {
    "name": "ipython",
    "version": 3
   },
   "file_extension": ".py",
   "mimetype": "text/x-python",
   "name": "python",
   "nbconvert_exporter": "python",
   "pygments_lexer": "ipython3",
   "version": "3.7.5"
  },
  "varInspector": {
   "cols": {
    "lenName": 16,
    "lenType": 16,
    "lenVar": 40
   },
   "kernels_config": {
    "python": {
     "delete_cmd_postfix": "",
     "delete_cmd_prefix": "del ",
     "library": "var_list.py",
     "varRefreshCmd": "print(var_dic_list())"
    },
    "r": {
     "delete_cmd_postfix": ") ",
     "delete_cmd_prefix": "rm(",
     "library": "var_list.r",
     "varRefreshCmd": "cat(var_dic_list()) "
    }
   },
   "types_to_exclude": [
    "module",
    "function",
    "builtin_function_or_method",
    "instance",
    "_Feature"
   ],
   "window_display": false
  }
 },
 "nbformat": 4,
 "nbformat_minor": 2
}
